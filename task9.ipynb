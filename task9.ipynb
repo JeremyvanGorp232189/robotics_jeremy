{
 "cells": [
  {
   "cell_type": "code",
   "execution_count": 7,
   "metadata": {},
   "outputs": [
    {
     "ename": "error",
     "evalue": "Only one local in-process GUI/GUI_SERVER connection allowed. Use DIRECT connection mode or start a separate GUI physics server (ExampleBrowser, App_SharedMemoryPhysics_GUI, App_SharedMemoryPhysics_VR) and connect over SHARED_MEMORY, UDP or TCP instead.",
     "output_type": "error",
     "traceback": [
      "\u001b[1;31m---------------------------------------------------------------------------\u001b[0m",
      "\u001b[1;31merror\u001b[0m                                     Traceback (most recent call last)",
      "Cell \u001b[1;32mIn[7], line 10\u001b[0m\n\u001b[0;32m      7\u001b[0m \u001b[38;5;28;01mfrom\u001b[39;00m \u001b[38;5;21;01msim_class\u001b[39;00m \u001b[38;5;28;01mimport\u001b[39;00m Simulation\n\u001b[0;32m      9\u001b[0m \u001b[38;5;66;03m# Initialize the simulation with one robot\u001b[39;00m\n\u001b[1;32m---> 10\u001b[0m sim \u001b[38;5;241m=\u001b[39m \u001b[43mSimulation\u001b[49m\u001b[43m(\u001b[49m\u001b[43mnum_agents\u001b[49m\u001b[38;5;241;43m=\u001b[39;49m\u001b[38;5;241;43m1\u001b[39;49m\u001b[43m)\u001b[49m\n\u001b[0;32m     12\u001b[0m \u001b[38;5;66;03m# Main simulation loop for 1000 steps\u001b[39;00m\n\u001b[0;32m     13\u001b[0m \u001b[38;5;28;01mfor\u001b[39;00m step \u001b[38;5;129;01min\u001b[39;00m \u001b[38;5;28mrange\u001b[39m(\u001b[38;5;241m1000\u001b[39m):\n\u001b[0;32m     14\u001b[0m     \u001b[38;5;66;03m# Generate random actions for the robot\u001b[39;00m\n",
      "File \u001b[1;32mc:\\Users\\jerem\\Desktop\\Github_school\\2024-25b-fai2-adsai-JeremyvanGorp232189\\datalab_tasks\\task9\\Y2B-2023-OT2_Twin\\sim_class.py:20\u001b[0m, in \u001b[0;36mSimulation.__init__\u001b[1;34m(self, num_agents, render, rgb_array)\u001b[0m\n\u001b[0;32m     18\u001b[0m     mode \u001b[38;5;241m=\u001b[39m p\u001b[38;5;241m.\u001b[39mDIRECT \u001b[38;5;66;03m# for non-graphical version\u001b[39;00m\n\u001b[0;32m     19\u001b[0m \u001b[38;5;66;03m# Set up the simulation\u001b[39;00m\n\u001b[1;32m---> 20\u001b[0m \u001b[38;5;28mself\u001b[39m\u001b[38;5;241m.\u001b[39mphysicsClient \u001b[38;5;241m=\u001b[39m \u001b[43mp\u001b[49m\u001b[38;5;241;43m.\u001b[39;49m\u001b[43mconnect\u001b[49m\u001b[43m(\u001b[49m\u001b[43mmode\u001b[49m\u001b[43m)\u001b[49m\n\u001b[0;32m     21\u001b[0m \u001b[38;5;66;03m# Hide the default GUI components\u001b[39;00m\n\u001b[0;32m     22\u001b[0m p\u001b[38;5;241m.\u001b[39mconfigureDebugVisualizer(p\u001b[38;5;241m.\u001b[39mCOV_ENABLE_GUI, \u001b[38;5;241m0\u001b[39m)\n",
      "\u001b[1;31merror\u001b[0m: Only one local in-process GUI/GUI_SERVER connection allowed. Use DIRECT connection mode or start a separate GUI physics server (ExampleBrowser, App_SharedMemoryPhysics_GUI, App_SharedMemoryPhysics_VR) and connect over SHARED_MEMORY, UDP or TCP instead."
     ]
    }
   ],
   "source": [
    "import sys\n",
    "import random\n",
    "\n",
    "# Add the path to sim_class.py to the Python path\n",
    "sys.path.append(r'datalab_tasks\\task9\\Y2B-2023-OT2_Twin')\n",
    "\n",
    "from sim_class import Simulation\n",
    "\n",
    "# Initialize the simulation with one robot\n",
    "sim = Simulation(num_agents=1)\n",
    "\n",
    "# Main simulation loop for 1000 steps\n",
    "for step in range(1000):\n",
    "    # Generate random actions for the robot\n",
    "    velocity_x = random.uniform(-0.5, 0.5)\n",
    "    velocity_y = random.uniform(-0.5, 0.5)\n",
    "    velocity_z = random.uniform(-0.5, 0.5)\n",
    "    drop_command = random.randint(0, 1)\n",
    "\n",
    "    # Actions: [velocity_x, velocity_y, velocity_z, drop_command]\n",
    "    actions = [[velocity_x, velocity_y, velocity_z, drop_command]]\n",
    "\n",
    "    # Run one step in the simulation and capture the state\n",
    "    state = sim.run(actions)\n",
    "    print(f\"Step {step}: Robot State: {state}\")\n",
    "\n",
    "# Reset the simulation after completion\n",
    "sim.reset(num_agents=1)\n",
    "print(\"Simulation reset completed.\")\n"
   ]
  },
  {
   "cell_type": "code",
   "execution_count": null,
   "metadata": {},
   "outputs": [],
   "source": []
  }
 ],
 "metadata": {
  "kernelspec": {
   "display_name": "Python 3",
   "language": "python",
   "name": "python3"
  },
  "language_info": {
   "codemirror_mode": {
    "name": "ipython",
    "version": 3
   },
   "file_extension": ".py",
   "mimetype": "text/x-python",
   "name": "python",
   "nbconvert_exporter": "python",
   "pygments_lexer": "ipython3",
   "version": "3.13.1"
  }
 },
 "nbformat": 4,
 "nbformat_minor": 2
}
